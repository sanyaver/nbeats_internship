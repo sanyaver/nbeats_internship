{
 "cells": [
  {
   "cell_type": "code",
   "execution_count": 2,
   "metadata": {},
   "outputs": [
    {
     "ename": "SyntaxError",
     "evalue": "(unicode error) 'unicodeescape' codec can't decode bytes in position 2-3: truncated \\UXXXXXXXX escape (4168891403.py, line 12)",
     "output_type": "error",
     "traceback": [
      "\u001b[1;36m  File \u001b[1;32m\"C:\\Users\\verma\\AppData\\Local\\Temp\\ipykernel_16968\\4168891403.py\"\u001b[1;36m, line \u001b[1;32m12\u001b[0m\n\u001b[1;33m    DATASET_URL = 'C:\\Users\\verma\\Downloads\\us-east-2-preprocessed-task.csv'\u001b[0m\n\u001b[1;37m                 ^\u001b[0m\n\u001b[1;31mSyntaxError\u001b[0m\u001b[1;31m:\u001b[0m (unicode error) 'unicodeescape' codec can't decode bytes in position 2-3: truncated \\UXXXXXXXX escape\n"
     ]
    }
   ],
   "source": [
    "\n",
    "import logging\n",
    "import os\n",
    "from dataclasses import dataclass\n",
    "\n",
    "import numpy as np\n",
    "import pandas as pd\n",
    "import patoolib\n",
    "\n",
    "from common.http_utils import download, url_file_name\n",
    "from common.settings import DATASETS_PATH\n",
    "\n",
    "DATASET_URL = 'C:\\Users\\verma\\Downloads\\us-east-2-preprocessed-task.csv'\n",
    "\n",
    "DATASET_PATH = os.path.join(DATASETS_PATH, 'test')\n",
    "DATASET_FILE_PATH = os.path.join(DATASET_PATH, url_file_name(DATASET_URL))\n",
    "\n",
    "\n",
    "\n",
    "\n",
    "\n",
    "@dataclass()\n",
    "class TestDataSet:\n",
    "    ids: np.ndarray\n",
    "    groups: np.ndarray\n",
    "    horizons: np.ndarray\n",
    "    values: np.ndarray\n",
    "\n",
    "    @staticmethod\n",
    "    def load(training: bool = True) -> 'TestDataSet':\n",
    "\n",
    "        ids = []\n",
    "        groups = []\n",
    "        horizons = []\n",
    "        values = []\n",
    "\n",
    "\n",
    "        train = pd.read_csv(os.path.join(DATASET_PATH, f'{group.lower()}_in.csv'),\n",
    "                                header=0, delimiter=\",\")\n",
    "        test = pd.read_csv(os.path.join(DATASET_PATH, f'{group.lower()}_oos.csv'),\n",
    "                               header=0, delimiter=\",\")\n",
    "\n",
    "        horizons.extend(list(test.iloc[0].astype(int)))\n",
    "        groups.extend([group] * len(train.columns))\n",
    "\n",
    "        ids.extend(list(train.index))\n",
    "\n",
    "        if training:\n",
    "            dataset = train\n",
    "        else:\n",
    "            dataset = test\n",
    "\n",
    "        values.extend([ts[:ts_length] for ts, ts_length in zip(dataset.values)])\n",
    "\n",
    "        return TestDataSet(ids=np.array(ids),\n",
    "                              groups=np.array(groups),\n",
    "                              horizons=np.array(horizons),\n",
    "                              values=np.array(values))\n",
    "\n",
    "    @staticmethod\n",
    "    def download():\n",
    "\n",
    "        if os.path.isdir(DATASET_PATH):\n",
    "            logging.info(f'skip: {DATASET_PATH} directory already exists.')\n",
    "            return\n",
    "        download(DATASET_URL, DATASET_FILE_PATH)\n",
    "        patoolib.extract_archive(DATASET_FILE_PATH, outdir=DATASET_PATH)\n",
    "\n",
    "    def to_hp_search_training_subset(self):\n",
    "        return TestDataSet(ids=self.ids,\n",
    "                              groups=self.groups,\n",
    "                              horizons=self.horizons,\n",
    "                              values=np.array([v[:-self.horizons[i]] for i, v in enumerate(self.values)]))\n"
   ]
  }
 ],
 "metadata": {
  "kernelspec": {
   "display_name": "Python 3.7.4 32-bit",
   "language": "python",
   "name": "python3"
  },
  "language_info": {
   "codemirror_mode": {
    "name": "ipython",
    "version": 3
   },
   "file_extension": ".py",
   "mimetype": "text/x-python",
   "name": "python",
   "nbconvert_exporter": "python",
   "pygments_lexer": "ipython3",
   "version": "3.7.4"
  },
  "orig_nbformat": 4,
  "vscode": {
   "interpreter": {
    "hash": "5677cbea3dea500478ae22c6de2bbadc61d07d926ad0d8168c51c6d245eec497"
   }
  }
 },
 "nbformat": 4,
 "nbformat_minor": 2
}
